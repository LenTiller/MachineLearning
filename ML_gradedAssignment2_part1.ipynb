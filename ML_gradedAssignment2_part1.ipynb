{
 "cells": [
  {
   "cell_type": "code",
   "execution_count": 2,
   "metadata": {
    "collapsed": true
   },
   "outputs": [],
   "source": [
    "import matplotlib.pyplot as plt\n",
    "import numpy as np\n",
    "from sklearn import datasets\n",
    "from sklearn.preprocessing import StandardScaler # to normalize data (NN is very sensitive to this!)\n",
    "from sklearn.model_selection import train_test_split #to split in train and test set\n",
    "from sklearn.linear_model import LogisticRegression #logistic regression classifier\n",
    "from sklearn.neural_network import MLPClassifier # neural network classifier\n",
    "#from sklearn.model_selection import cross_val_score #BONUS: to tune parameters using cross-validation\n",
    "from sklearn.metrics import classification_report, confusion_matrix # for reporting\n",
    "from sklearn.neighbors import KNeighborsClassifier\n",
    "from sklearn.model_selection import GridSearchCV, cross_val_score"
   ]
  },
  {
   "cell_type": "code",
   "execution_count": 3,
   "metadata": {
    "collapsed": true
   },
   "outputs": [],
   "source": [
    "# loading the data as feature matrix and target vector\n",
    "# regularising parameters with library command (see discussion of results)\n",
    "data_matrix = datasets.load_digits()\n",
    "X_mnist = np.reshape(data_matrix.images, (1797,64))\n",
    "y_mnist = data_matrix.target\n",
    "X_mnist_reg = StandardScaler().fit_transform(X_mnist)"
   ]
  },
  {
   "cell_type": "code",
   "execution_count": 4,
   "metadata": {
    "collapsed": true
   },
   "outputs": [],
   "source": [
    "# I use train_test_split instead of manual split on the data-set, in order to have random instances, not first p% \n",
    "#of the matrix; remove some_number from random_state after testing \n",
    "#for test_sizes smaller than 0.4, the fitted values for both regressions \n",
    "#did not have a positiv effect on the test score. So I decided to take rather a bigger test-sample size.\n",
    "#Also, since the cross-validation \n",
    "#is done in a 10-fold manner, we can rather choose \n",
    "#a bigger test sample and a smaller training/cross-validation \n",
    "#sample (which are the same for k-fold cv)\n",
    "X_train, X_test, y_train, y_test = train_test_split(X_mnist_reg, y_mnist, test_size=0.4, random_state=0)"
   ]
  },
  {
   "cell_type": "code",
   "execution_count": 15,
   "metadata": {
    "collapsed": false
   },
   "outputs": [],
   "source": [
    "# train logistic classifier with default settings\n",
    "log_clf = LogisticRegression()\n",
    "log_clf.fit(X_train,y_train)\n",
    "\n",
    "#build k-nn classifier with default settings\n",
    "knn_clf = KNeighborsClassifier()\n",
    "knn_clf.fit(X_train, y_train)\n",
    "\n",
    "log_score = cross_val_score(\n",
    "    log_clf, X_train, y_train, scoring = \"accuracy\", cv = k_fold)\n",
    "knn_score = cross_val_score(\n",
    "    knn_clf, X_train, y_train, scoring = \"accuracy\", cv = k_fold)"
   ]
  },
  {
   "cell_type": "code",
   "execution_count": 18,
   "metadata": {
    "collapsed": true
   },
   "outputs": [],
   "source": [
    "# cross-validation with regularization parameter in Logistic regresseion (more inf in discussion of results)\n",
    "k_fold = 10\n",
    "C_range = [0.01,0.4,1,1.3,1.5,2,4,6,10]\n",
    "k_range = [1,3,2,5,7]\n",
    "log_parameters = {\"C\": C_range}\n",
    "knn_parameters = {\"n_neighbors\": k_range}\n",
    "\n",
    "\n",
    "# train C in 10-fold Cross Validation for LogisticRegression\n",
    "cv_log_clf = GridSearchCV(\n",
    "    LogisticRegression(), log_parameters, \n",
    "    scoring = \"accuracy\", cv = k_fold)\n",
    "cv_log_clf.fit(X_train,y_train)\n",
    "\n",
    "# train k in 10-fold Cross Validation for nearest neighbor-classifier\n",
    "cv_knn_clf = GridSearchCV(\n",
    "    KNeighborsClassifier(), knn_parameters, \n",
    "    scoring = \"accuracy\", cv = k_fold)\n",
    "cv_knn_clf.fit(X_train,y_train)\n",
    "\n",
    "# test performance of both classifiers on Cross-validation-set (10-fold cv)\n",
    "# performance measured as mean accuracy cv sets (10-fold)\n",
    "cv_log_score = cross_val_score(\n",
    "    cv_log_clf, X_train, y_train, scoring = \"accuracy\", cv = k_fold)\n",
    "cv_knn_score = cross_val_score(\n",
    "    cv_knn_clf, X_train, y_train, scoring = \"accuracy\", cv = k_fold)"
   ]
  },
  {
   "cell_type": "code",
   "execution_count": 26,
   "metadata": {
    "collapsed": false
   },
   "outputs": [
    {
     "name": "stdout",
     "output_type": "stream",
     "text": [
      "Logistic Regression classifier with fitted value for C:1: accuracy on cv set: \n",
      "        -mean:0.959, (compares to mean:0.961 with not fitted C)\n",
      "        -std:0.0214\n",
      "knn classifier with fitted value for k:5: accuracy on cv set: \n",
      "        -mean:0.9657 (compares to mean:0.9658 with not fitted k)\n",
      "        -std:0.0176\n"
     ]
    }
   ],
   "source": [
    "# print metrics for both classifiers\n",
    "print(\n",
    "\"\"\"Logistic Regression classifier with fitted value for C:{0}: accuracy on cv set: \n",
    "        -mean:{1}, (compares to mean:{3} with not fitted C)\n",
    "        -std:{2}\"\"\".format(\n",
    "    cv_log_clf.best_params_[\"C\"],\n",
    "    round(np.mean(cv_log_score), 4),\n",
    "    round(np.std(cv_log_score),4), \n",
    "    round(np.mean(log_score), 4)))\n",
    "\n",
    "print(\n",
    "\"\"\"knn classifier with fitted value for k:{0}: accuracy on cv set: \n",
    "        -mean:{1} (compares to mean:{3} with not fitted k)\n",
    "        -std:{2}\"\"\".format(\n",
    "    cv_knn_clf.best_params_[\"n_neighbors\"],\n",
    "    round(np.mean(cv_knn_score), 4),\n",
    "    round(np.std(cv_knn_score),4),\n",
    "    round(np.mean(knn_score), 4)))"
   ]
  },
  {
   "cell_type": "code",
   "execution_count": 21,
   "metadata": {
    "collapsed": true
   },
   "outputs": [],
   "source": [
    "# means and standard deviations for different values of hyper parameters\n",
    "cv_log_meanAccuracy = []\n",
    "cv_log_stdAccuracy = []\n",
    "\n",
    "for i in C_range:\n",
    "    ith_clf = LogisticRegression(C = i).fit(X_train, y_train)\n",
    "    x = cross_val_score(\n",
    "        ith_clf, X_train, y_train, scoring = \"accuracy\", cv=k_fold)\n",
    "    cv_log_meanAccuracy = np.append(cv_log_meanAccuracy, np.mean(x))\n",
    "    cv_log_stdAccuracy = np.append(cv_log_stdAccuracy, np.std(x))\n",
    "    \n",
    "cv_knn_meanAccuracy = []\n",
    "cv_knn_stdAccuracy = []\n",
    "\n",
    "for i in k_range:\n",
    "    ith_clf = KNeighborsClassifier(n_neighbors = i).fit(X_train, y_train)\n",
    "    x = cross_val_score(\n",
    "        ith_clf, X_train, y_train, scoring = \"accuracy\", cv=k_fold)\n",
    "    cv_knn_meanAccuracy = np.append(cv_knn_meanAccuracy, np.mean(x))\n",
    "    cv_knn_stdAccuracy = np.append(cv_knn_stdAccuracy, np.std(x))"
   ]
  },
  {
   "cell_type": "code",
   "execution_count": 27,
   "metadata": {
    "collapsed": false
   },
   "outputs": [
    {
     "data": {
      "image/png": "[encoded data removed]",
      "text/plain": [
       "<matplotlib.figure.Figure at 0x110560e80>"
      ]
     },
     "metadata": {},
     "output_type": "display_data"
    }
   ],
   "source": [
    "# draw mean accuracies on cv-set dependent on hyper parameter values (C, k)\n",
    "plt.figure(1)\n",
    "plt.title(\"Logistic Regression \", fontsize = 20)\n",
    "plt.xlabel(\"regularisation term\", fontsize = 14)\n",
    "plt.ylabel(\"mean accuracy\", fontsize = 14)\n",
    "plt.scatter(C_range, cv_log_meanAccuracy, marker= \"o\") \n",
    "plt.show()"
   ]
  },
  {
   "cell_type": "code",
   "execution_count": 28,
   "metadata": {
    "collapsed": false
   },
   "outputs": [
    {
     "data": {
      "image/png": "[encoded data removed]",
      "text/plain": [
       "<matplotlib.figure.Figure at 0x1104cf630>"
      ]
     },
     "metadata": {},
     "output_type": "display_data"
    }
   ],
   "source": [
    "plt.figure(2)\n",
    "plt.xlabel(\"k\", fontsize = 14)\n",
    "plt.ylabel(\"mean accuracy\", fontsize = 14)\n",
    "plt.title(\"nearest neighbor classifier \", fontsize = 20)\n",
    "plt.scatter(k_range, cv_knn_meanAccuracy, marker= \"+\")   \n",
    "plt.show()"
   ]
  },
  {
   "cell_type": "code",
   "execution_count": 11,
   "metadata": {
    "collapsed": false
   },
   "outputs": [
    {
     "name": "stdout",
     "output_type": "stream",
     "text": [
      "Report: Logistic Regression:\n",
      "\n",
      "             precision    recall  f1-score   support\n",
      "\n",
      "          0       1.00      1.00      1.00        60\n",
      "          1       0.92      0.96      0.94        73\n",
      "          2       0.96      0.99      0.97        71\n",
      "          3       0.94      0.96      0.95        70\n",
      "          4       0.98      0.98      0.98        63\n",
      "          5       0.96      0.97      0.96        89\n",
      "          6       0.99      0.97      0.98        76\n",
      "          7       0.96      0.98      0.97        65\n",
      "          8       0.96      0.88      0.92        78\n",
      "          9       0.97      0.95      0.96        74\n",
      "\n",
      "avg / total       0.96      0.96      0.96       719\n",
      "\n",
      "Report: nearest neighbor classifier:\n",
      "\n",
      "             precision    recall  f1-score   support\n",
      "\n",
      "          0       1.00      1.00      1.00        60\n",
      "          1       0.94      0.99      0.96        73\n",
      "          2       0.96      0.99      0.97        71\n",
      "          3       0.96      0.97      0.96        70\n",
      "          4       0.98      0.97      0.98        63\n",
      "          5       0.99      0.94      0.97        89\n",
      "          6       0.99      1.00      0.99        76\n",
      "          7       0.96      0.98      0.97        65\n",
      "          8       0.99      0.92      0.95        78\n",
      "          9       0.96      0.96      0.96        74\n",
      "\n",
      "avg / total       0.97      0.97      0.97       719\n",
      "\n"
     ]
    }
   ],
   "source": [
    "# test performance of both classifiers on test-set\n",
    "cv_log_report = classification_report(y_test, cv_log_clf.predict(X_test))\n",
    "print(\"Report: Logistic Regression:\\n\\n\" + cv_log_report)\n",
    "\n",
    "cv_knn_report = classification_report(y_test, cv_knn_clf.predict(X_test))\n",
    "print(\"Report: nearest neighbor classifier:\\n\\n\" + cv_knn_report)"
   ]
  },
  {
   "cell_type": "code",
   "execution_count": 12,
   "metadata": {
    "collapsed": false
   },
   "outputs": [
    {
     "name": "stdout",
     "output_type": "stream",
     "text": [
      "Logistic Regression's confusion matrix\n",
      "[[60  0  0  0  0  0  0  0  0  0]\n",
      " [ 0 70  1  0  0  0  0  0  2  0]\n",
      " [ 0  0 70  1  0  0  0  0  0  0]\n",
      " [ 0  0  1 67  0  1  0  0  1  0]\n",
      " [ 0  0  0  0 62  0  0  1  0  0]\n",
      " [ 0  1  0  0  0 86  1  0  0  1]\n",
      " [ 0  1  0  0  0  1 74  0  0  0]\n",
      " [ 0  0  0  1  0  0  0 64  0  0]\n",
      " [ 0  4  1  2  1  0  0  0 69  1]\n",
      " [ 0  0  0  0  0  2  0  2  0 70]]\n",
      "\n",
      "\n",
      " nearest neighbor's confusion matrix\n",
      "[[60  0  0  0  0  0  0  0  0  0]\n",
      " [ 0 72  1  0  0  0  0  0  0  0]\n",
      " [ 0  1 70  0  0  0  0  0  0  0]\n",
      " [ 0  0  1 68  0  0  0  0  0  1]\n",
      " [ 0  0  0  0 61  0  0  2  0  0]\n",
      " [ 0  1  0  0  0 84  1  0  1  2]\n",
      " [ 0  0  0  0  0  0 76  0  0  0]\n",
      " [ 0  0  0  0  1  0  0 64  0  0]\n",
      " [ 0  3  1  2  0  0  0  0 72  0]\n",
      " [ 0  0  0  1  0  1  0  1  0 71]]\n",
      "\n",
      "\n",
      " Difference between conf. matrices\n",
      "[[ 0  0  0  0  0  0  0  0  0  0]\n",
      " [ 0 -2  0  0  0  0  0  0  2  0]\n",
      " [ 0 -1  0  1  0  0  0  0  0  0]\n",
      " [ 0  0  0 -1  0  1  0  0  1 -1]\n",
      " [ 0  0  0  0  1  0  0 -1  0  0]\n",
      " [ 0  0  0  0  0  2  0  0 -1 -1]\n",
      " [ 0  1  0  0  0  1 -2  0  0  0]\n",
      " [ 0  0  0  1 -1  0  0  0  0  0]\n",
      " [ 0  1  0  0  1  0  0  0 -3  1]\n",
      " [ 0  0  0 -1  0  1  0  1  0 -1]]\n"
     ]
    }
   ],
   "source": [
    "# draw confusion matrix for both classifiers\n",
    "\n",
    "cv_log_confMatrix = confusion_matrix(y_test,cv_log_clf.predict(X_test))\n",
    "cv_knn_confMatrix = confusion_matrix(y_test,cv_knn_clf.predict(X_test))\n",
    "np.set_printoptions(threshold=np.nan)\n",
    "print(\"Logistic Regression's confusion matrix\")\n",
    "print(cv_log_confMatrix)\n",
    "print(\"\\n\\n nearest neighbor's confusion matrix\")\n",
    "print(cv_knn_confMatrix)\n",
    "print(\"\\n\\n Difference between conf. matrices\")\n",
    "print(cv_log_confMatrix-cv_knn_confMatrix)"
   ]
  },
  {
   "cell_type": "code",
   "execution_count": 13,
   "metadata": {
    "collapsed": false
   },
   "outputs": [],
   "source": [
    "# MultiLayerPerceptron classifier (Bonus); \n",
    "#HDR_range = [(100,),(50,50,),(33,33,33,)]\n",
    "#NN_parameters = {\"hidden_layer_range\": HDR_range}\n",
    "#NN_clf = GridSearchCV(MLPClassifier(solver='lbfgs', alpha=1e-5,), NN_parameters, \n",
    "#    scoring = \"accuracy\", cv = k_fold)\n",
    "#NN_clf.fit(X_train,y_train)"
   ]
  },
  {
   "cell_type": "markdown",
   "metadata": {},
   "source": [
    "# Evaluation\n",
    "\n",
    "- split into train and test sets: see cell 4\n",
    "\n",
    "- training of logistic and nearest neighbour classifier: both functions are provided in the library and used with the default settings\n",
    "\n",
    "- training hyperparameters in a k-fold cross-validation procedure: the values I chose to be tested are based on observations of the graphs in cell 9 and 10. I tried to estimate possible maximums and chose test values for C and k respectively. Obviously, this is a redundand step, as i could have chosen the max-values from the graphs directly. To fulfill the assigment requirements, I added GridSearchCV() anyways. \n",
    "\n",
    "- evaluation of accuracy scores for improved and non improved hyperparameters: All four mean accuracies printed in cell 17 are very high. Considering that human perception can never reach 100% and ranges somewhere between 97% an 99%, we have to consider these estimators as very good. Since the estemators that were not improved on the CV set are already at ~95% and ~96% respectively, it is not surprising that the improved estimators are not much better. \n",
    "\n",
    "- plots of mean accuracies for different values of k and C: we can observe that the LogistigRegression estimator improves a lot between 0 and 1. Since we know that LogisticRegression make bad predictions for very high and very low values of lambda (regression parameter) we can furthermore expect that the given graph would decrease for C->∞. It is important to keep in mind that C is the inverse of lambda. Thus the reason for the poor performance for small C is a too high penalty on the weights (parameters, theta's). In comparison to the graph related to the LogisitcRegression, the nearestNeighbour related graph is much less \"smooth\". Especially between k=1 and k=2 we see a large jumps. This shows again that the nearest neighbour classifier is (for most distance functions) very sensitive to small changes of k (or the size of the radius).\n",
    "\n",
    "- report on cv classifiers: like the mean accuracy, the mean values of recall and precision for the classifiers are very high! However, we can observe that certain numbers are more difficult to predict correctly for both classifier. Both but the LogisticRegression Classifier in particular seem to have difficulties identifying eights correctly. Just to speculate, I can imagine that the round shape of the eight is too similar to sixes and zeros. However to make inferences about such relations, it makes more sense to consult the confusion matrixes below. The f1-score that we can interpret as a measure of accuracy, doesn't provide much more information than the above. The values of \"support\" are not too high. This could be a problem as we can not generalise from the test results with too high confidence. \n",
    "\n",
    "- confusion matrix: both classifiers regularly confuse 1,2,3,8. As indicated above, the false-positive value for 8s is the highest. Frequently, they are classified as 2,3 and , interstingly, as 1. It would be interesting to look at the shapes of 1s, since they are intuitively of very different shape than 8s. Also as mentioned above, the nearestNeighbor classifier seems to be better with regard of correct predictions of 8s and of predictions in general. However, examining the matrix representing the differences between both confusion matrixes, we can see that the frequency of negative values dominate. This shows us that the nearest neighbor classifier has good average scores but also many \"scattered\" outliers. \n",
    "\n"
   ]
  },
  {
   "cell_type": "code",
   "execution_count": null,
   "metadata": {
    "collapsed": true
   },
   "outputs": [],
   "source": []
  },
  {
   "cell_type": "code",
   "execution_count": null,
   "metadata": {
    "collapsed": true
   },
   "outputs": [],
   "source": []
  }
 ],
 "metadata": {
  "kernelspec": {
   "display_name": "Python 3",
   "language": "python",
   "name": "python3"
  },
  "language_info": {
   "codemirror_mode": {
    "name": "ipython",
    "version": 3
   },
   "file_extension": ".py",
   "mimetype": "text/x-python",
   "name": "python",
   "nbconvert_exporter": "python",
   "pygments_lexer": "ipython3",
   "version": "3.6.0"
  }
 },
 "nbformat": 4,
 "nbformat_minor": 2
}
