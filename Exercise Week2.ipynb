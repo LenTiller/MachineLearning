{
 "cells": [
  {
   "cell_type": "markdown",
   "metadata": {},
   "source": [
    "# Lab Exercise Probability 1\n",
    "## Throwin a fair dice\n",
    "\n",
    "\\begin{equation}\n",
    "1. U = {1,2,3,4,5,6}\\\\\n",
    "2. U = {11,12,13,14,15,16,21,...,66}\\\\ \n",
    "3. P(66) = {1 \\over 36}\\\\\n",
    "4. P(63 \\cap 36 \\cap 45 \\cap 54) = 4\n",
    "\\end{equation}\n",
    "\n",
    "## Venn Diagram\n",
    "\n",
    "\\begin{equation}\n",
    "1. \\\\E_1 = U - A\\cup B\\\\\n",
    "E_2 = A - A \\cap B\\\\\n",
    "E_4 = B - A \\cap B\\\\\n",
    "2.\\\\ P(E_1) 1-0.8=0.2\\\\\n",
    "P(E_2)= P(A) - (P(A) + P(B) - P(A \\cup B)) = 0.1 \\\\\n",
    "P(E_3) = P(A) + P(B) - P(A\\cup B) = 0.4\\\\\n",
    "P(E_4) = P(B)-P(A \\cap B)=0.3\n",
    "\\end{equation}\n",
    "\n",
    "\n",
    "\n",
    "\n",
    "\n"
   ]
  },
  {
   "cell_type": "markdown",
   "metadata": {},
   "source": [
    "## Axioms and Theorems of Probability\n",
    "### exercise 1 and 2\n",
    "![exercise 1 and 2](img.png)\n",
    "### exercise 3\n",
    "![exercise 3](img_2.png)\n",
    "\n",
    "\n"
   ]
  },
  {
   "cell_type": "markdown",
   "metadata": {},
   "source": [
    "## Conditional Probability and Bayes Rule\n",
    "\n",
    "\\begin{equation}\n",
    "\n",
    "1. P(A|B)+P(A|\\neg B)=P(B)\\\\\n",
    "2. no\\quad further\\quad information \\\\\n",
    "3. P(A|B)+P(A|\\neg B)=P(A) \\\\\n",
    "4. P(A|B)= {P(A\\cap B) \\over P(B)} = {P(A) \\over P(B)}P(B|A)\\\\\n",
    "{P(A\\cap B) \\over P(B)} = {P(A) \\over P(B)}\\times {P(B\\cap A) \\over P(A)}\n",
    "\\end{equation}\n",
    "\n",
    "## Chain Rule\n",
    "\\begin{equation}\n",
    "1. n = 2 \\quad P(A_1\\cap A_2) = {P(A_1|A_2)\\over P(A_2)}{P(A_2) \\over P(A_2)} = P(A_1|A_2)P(A_2) \\\\\n",
    "n = n+1 \\quad P(A_1A_2...A_{n+1}) = P(A_1|A_2,...,A_{n+1})*P(A_2,...,A_{n+1})\\\\\n",
    "2. n! \\quad chains\n",
    "\\end{equation}"
   ]
  },
  {
   "cell_type": "code",
   "execution_count": 3,
   "metadata": {
    "collapsed": false
   },
   "outputs": [],
   "source": [
    "#Naive Baysian Classifier\n",
    "import numpy as np\n",
    "from scipy.stats import norm, binom\n",
    "\n",
    "data = np.genfromtxt(fname='/Users/Lennart/Desktop/ML/biometrie2014.csv', \n",
    "                  skip_header=5, delimiter = \",\", \n",
    "                  converters = {0:lambda x: float(x[0] == 70)})\n",
    "\n",
    "fMeans = np.mean(data[data[:,0] == 1][:,1:4], axis = 0)\n",
    "fStds = np.std(data[data[:,0] == 1][:,1:4], axis = 0)\n",
    "mMeans = np.mean(data[data[:,0] == 0][:,1:4], axis = 0)\n",
    "mStds = np.std(data[data[:,0] == 0][:,1:4], axis = 0)\n",
    "pF = sum(data[:,0])/len(data)\n",
    "pM = 1-pF\n",
    "\n",
    "def densityProd(ps,means,dvts):\n",
    "    return np.prod(norm.pdf(ps,means,dvts))\n",
    "\n",
    "def classifyer(inst):\n",
    "    if densityProd(inst,fMeans,fStds)*pF > densityProd(inst,mMeans,mStds)*pM:\n",
    "        return \"female!\"\n",
    "    else:\n",
    "        return \"male!\""
   ]
  },
  {
   "cell_type": "code",
   "execution_count": 2,
   "metadata": {
    "collapsed": false
   },
   "outputs": [],
   "source": [
    "# Galton Simulator\n",
    "\n",
    "def galtonSimulate(n, N):\n",
    "    A = [0]* (n+1)\n",
    "    for i in range(N):\n",
    "        A[sum(np.random.randint(0,2,n))] += 1\n",
    "    return A"
   ]
  },
  {
   "cell_type": "code",
   "execution_count": 35,
   "metadata": {
    "collapsed": false
   },
   "outputs": [],
   "source": []
  },
  {
   "cell_type": "code",
   "execution_count": null,
   "metadata": {
    "collapsed": false
   },
   "outputs": [],
   "source": []
  },
  {
   "cell_type": "code",
   "execution_count": 77,
   "metadata": {
    "collapsed": false
   },
   "outputs": [],
   "source": []
  },
  {
   "cell_type": "code",
   "execution_count": null,
   "metadata": {
    "collapsed": false
   },
   "outputs": [],
   "source": []
  },
  {
   "cell_type": "code",
   "execution_count": 44,
   "metadata": {
    "collapsed": false
   },
   "outputs": [],
   "source": []
  },
  {
   "cell_type": "code",
   "execution_count": null,
   "metadata": {
    "collapsed": false
   },
   "outputs": [],
   "source": []
  },
  {
   "cell_type": "code",
   "execution_count": null,
   "metadata": {
    "collapsed": true
   },
   "outputs": [],
   "source": []
  }
 ],
 "metadata": {
  "kernelspec": {
   "display_name": "Python 3",
   "language": "python",
   "name": "python3"
  },
  "language_info": {
   "codemirror_mode": {
    "name": "ipython",
    "version": 3
   },
   "file_extension": ".py",
   "mimetype": "text/x-python",
   "name": "python",
   "nbconvert_exporter": "python",
   "pygments_lexer": "ipython3",
   "version": "3.6.0"
  }
 },
 "nbformat": 4,
 "nbformat_minor": 2
}
