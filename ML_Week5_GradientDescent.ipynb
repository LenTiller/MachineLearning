{
 "cells": [
  {
   "cell_type": "code",
   "execution_count": 1,
   "metadata": {
    "collapsed": true
   },
   "outputs": [],
   "source": [
    "import numpy as np\n",
    "import matplotlib.pyplot as plt\n",
    "\n",
    "coefficients = np.array([2,3])\n",
    "m = 100\n",
    "var = 0.3\n",
    "x0 = np.ones(m)\n",
    "x1 = np.linspace(0,99,m)\n",
    "# brings x1-values approx into range of [-1,1]\n",
    "x1adapt = (x1-np.mean(x1))/np.std(x1)\n",
    "#2D-array with value-vector for each feature (x0,...,xm)\n",
    "x = np.array([x0,x1adapt]).T\n",
    "y = x @ coefficients + var * np.random.randn(m)\n",
    "theta = np.array([3,5])\n",
    "  \n"
   ]
  },
  {
   "cell_type": "code",
   "execution_count": 2,
   "metadata": {
    "collapsed": true
   },
   "outputs": [],
   "source": [
    "def predict(x,theta):\n",
    "    #predicts a value yhat for every given element x in sample\n",
    "    x_predict = x @ theta\n",
    "    return x_predict"
   ]
  },
  {
   "cell_type": "code",
   "execution_count": 3,
   "metadata": {
    "collapsed": true
   },
   "outputs": [],
   "source": [
    "def cost(x_predict, y):\n",
    "    # calculates the sum square difference between yhat and actual value y\n",
    "    return sum((x_predict-y)**2)/len(y)"
   ]
  },
  {
   "cell_type": "code",
   "execution_count": 4,
   "metadata": {
    "collapsed": true
   },
   "outputs": [],
   "source": [
    "def gradDescentStep(x_predict, y, x):\n",
    "    #calc vector with derivatives of cost function with respect to each theta\n",
    "    dtheta = ((x_predict.T-y) @ x / len(y))\n",
    "    return dtheta"
   ]
  },
  {
   "cell_type": "code",
   "execution_count": 21,
   "metadata": {
    "collapsed": false
   },
   "outputs": [
    {
     "data": {
      "image/png": "[encoded data removed]",
      "text/plain": [
       "<matplotlib.figure.Figure at 0x10fa54eb8>"
      ]
     },
     "metadata": {},
     "output_type": "display_data"
    }
   ],
   "source": [
    "alpha = 0.01\n",
    "iterations = 300\n",
    "stopcondition = 0.11\n",
    "\n",
    "i = 0 \n",
    "Cost = 10\n",
    "x_predict = predict(x,theta)\n",
    "J = []\n",
    "\n",
    "while (i < iterations) and (Cost > stopcondition):\n",
    "    i = i+1\n",
    "    x_predict = predict(x,theta)\n",
    "    Cost = cost(x_predict,y)\n",
    "    theta = theta - alpha * gradDescentStep(x_predict,y,x)\n",
    "    J = np.append(J,Cost)\n",
    "\n",
    "plt.plot(x1,predict(x,theta))\n",
    "plt.plot(x1,y,'o')\n",
    "plt.show()"
   ]
  },
  {
   "cell_type": "code",
   "execution_count": 22,
   "metadata": {
    "collapsed": false
   },
   "outputs": [
    {
     "data": {
      "text/plain": [
       "[<matplotlib.lines.Line2D at 0x10fcb5438>]"
      ]
     },
     "execution_count": 22,
     "metadata": {},
     "output_type": "execute_result"
    }
   ],
   "source": [
    "# plotting cost against iterations\n",
    "plt.plot(J,np.arange(1,i+1))"
   ]
  },
  {
   "cell_type": "code",
   "execution_count": null,
   "metadata": {
    "collapsed": true
   },
   "outputs": [],
   "source": []
  }
 ],
 "metadata": {
  "kernelspec": {
   "display_name": "Python 3",
   "language": "python",
   "name": "python3"
  },
  "language_info": {
   "codemirror_mode": {
    "name": "ipython",
    "version": 3
   },
   "file_extension": ".py",
   "mimetype": "text/x-python",
   "name": "python",
   "nbconvert_exporter": "python",
   "pygments_lexer": "ipython3",
   "version": "3.6.0"
  }
 },
 "nbformat": 4,
 "nbformat_minor": 2
}
