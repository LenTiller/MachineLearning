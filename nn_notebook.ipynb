{
 "cells": [
  {
   "cell_type": "markdown",
   "metadata": {},
   "source": [
    "# AUC ML LabExercise - Neural Networks\n",
    "Ungraded exercise, deadline Friday 3 November, 23:59.\n"
   ]
  },
  {
   "cell_type": "code",
   "execution_count": null,
   "metadata": {
    "collapsed": true
   },
   "outputs": [],
   "source": [
    "%pylab inline"
   ]
  },
  {
   "cell_type": "markdown",
   "metadata": {},
   "source": [
    "To use the Neural Networks package you first need to install the scikit-neuralnetwork. Install it through your Anaconda Navigator to avoid version mismatches. You can find the documentation here: \n",
    "http://scikit-learn.org/stable/modules/neural_networks_supervised.html"
   ]
  },
  {
   "cell_type": "code",
   "execution_count": null,
   "metadata": {
    "collapsed": true
   },
   "outputs": [],
   "source": [
    "#In this notebook we will work with the, commonly used, Iris dataset. \n",
    "#Please read the description of the dataset here:\n",
    "#http://scikit-learn.org/stable/auto_examples/datasets/plot_iris_dataset.html\n",
    "\n",
    "#First we import all the modules that you need for this exrecise\n",
    "\n",
    "from sklearn import datasets # to load the dataset\n",
    "from sklearn.preprocessing import StandardScaler # to normalize data (NN is very sensitive to this!)\n",
    "from sklearn.model_selection import train_test_split #to split in train and test set\n",
    "from sklearn.linear_model import LogisticRegression #logistic regression classifier\n",
    "from sklearn.neural_network import MLPClassifier # neural network classifier\n",
    "from sklearn.model_selection import cross_val_score #BONUS: to tune parameters using cross-validation\n",
    "\n",
    "#Step 1: Load Iris dataset.\n",
    "iris = datasets.load_iris()\n",
    "\n",
    "#Step 2: Save the features (data) and the labels (target) in separate variables.\n",
    "#In this notebook we will work with the, commonly used, Iris dataset. \n",
    "#Please read the description of the dataset here:\n",
    "#http://scikit-learn.org/stable/auto_examples/datasets/plot_iris_dataset.html\n",
    "\n",
    "#First we import all the modules that you need for this exrecise\n",
    "\n",
    "from sklearn import datasets # to load the dataset\n",
    "from sklearn.preprocessing import StandardScaler # to normalize data (NN is very sensitive to this!)\n",
    "from sklearn.model_selection import train_test_split #to split in train and test set\n",
    "from sklearn.linear_model import LogisticRegression #logistic regression classifier\n",
    "from sklearn.neural_network import MLPClassifier # neural network classifier\n",
    "from sklearn.model_selection import cross_val_score #BONUS: to tune parameters using cross-validation\n",
    "\n",
    "#Step 1: Load Iris dataset.\n",
    "iris = datasets.load_iris()\n",
    "\n",
    "#Step 2: Save the features (data) and the labels (target) in separate variables.\n",
    "Feat = iris.data # 150 x 4\n",
    "Targ = iris.target # 150 x 1\n",
    "\n",
    "#Step 3: Normalize your data. Do it 'by hand' using a for-loop or use the StandardScaler() function.\n",
    "Feat_avg = np.mean(Feat, axis=0)\n",
    "Feat_std = np.std(Feat, axis=0)\n",
    "Feat = (Feat-Feat_avg)/Feat_std\n",
    "\n",
    "#Step 4: Split the dataset in train and test sets. \n",
    "#You can either do it 'by hand' or use the train_test_split() function.\n",
    "train_Feat = Feat[:110]\n",
    "test_Feat = Feat[110:]\n",
    "train_Targ = Targ[:110]\n",
    "test_Targ = Targ[110:]\n",
    "\n",
    "#Step 5: Load logistic regression.\n",
    "# Study in the documentation all the arguments that the function takes as input and returns as output.e\n",
    "# Choose some initial values to start with and experiment with them after you get to Step 8.\n",
    "LogReg = LogisticRegression(penalty=\"l2\", solver=\"sag\", multi_class=\"multinomial\")\n",
    "\n",
    "#Step 6: Load NN Classifer\n",
    "# Study in the documentation all the arguments that the function takes as input and returns as output.\n",
    "# Choose some initial values to start with and experiment with them after you get to Step 8.\n",
    "clf = MLPClassifier(solver=\"adam\", max_iter=500)\n",
    "\n",
    "# Step 7: Training\n",
    "# Train both classifier, uising fit() function.\n",
    "LogReg.fit(training_data, training_target)\n",
    "clf.fit(training_data, training_target)\n",
    "\n",
    "# Step 8: Testing/Prediction\n",
    "# Print the score for both classifiers on the test set, using score() function.\n",
    "print(LogReg.score(test_Feat, test_Targ))\n",
    "print(clf.score(test_Feat, test_Targ))"
   ]
  }
 ],
 "metadata": {
  "kernelspec": {
   "display_name": "Python 3",
   "language": "python",
   "name": "python3"
  },
  "language_info": {
   "codemirror_mode": {
    "name": "ipython",
    "version": 3
   },
   "file_extension": ".py",
   "mimetype": "text/x-python",
   "name": "python",
   "nbconvert_exporter": "python",
   "pygments_lexer": "ipython3",
   "version": "3.6.0"
  }
 },
 "nbformat": 4,
 "nbformat_minor": 2
}
